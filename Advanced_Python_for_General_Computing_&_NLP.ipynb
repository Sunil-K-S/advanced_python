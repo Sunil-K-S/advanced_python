{
  "nbformat": 4,
  "nbformat_minor": 0,
  "metadata": {
    "colab": {
      "name": "Advanced Python for General Computing & NLP.ipynb",
      "provenance": []
    },
    "kernelspec": {
      "name": "python3",
      "display_name": "Python 3"
    }
  },
  "cells": [
    {
      "cell_type": "code",
      "metadata": {
        "id": "fRlVSYc2XSqT"
      },
      "source": [
        "import numpy as np\n",
        "from math import exp\n",
        "import requests\n",
        "import urllib.request\n",
        "from functools import reduce\n",
        "import random\n",
        "import string\n",
        "import urllib\n",
        "import nltk\n",
        "import itertools\n",
        "from nltk import sent_tokenize\n",
        "from nltk import word_tokenize"
      ],
      "execution_count": 66,
      "outputs": []
    },
    {
      "cell_type": "markdown",
      "metadata": {
        "id": "lA_o8SBZXN0V"
      },
      "source": [
        "1. Function using only list filter lambda that can tell whether a number is a Fibonacci number or not"
      ]
    },
    {
      "cell_type": "code",
      "metadata": {
        "id": "yAByM1E5XD-E",
        "outputId": "e84032aa-078b-4e82-d20a-2a1ba253ff95",
        "colab": {
          "base_uri": "https://localhost:8080/"
        }
      },
      "source": [
        "def generate_fibonacci_series(limit):\n",
        "    x, y = 0, 1\n",
        "    while x < limit:\n",
        "        yield x\n",
        "        x, y = y, x + y\n",
        "\n",
        "def is_num_fib(num, limit):\n",
        "  fib_list = [x for x in generate_fibonacci_series(limit)]\n",
        "  y = list(filter(lambda x: x == num, fib_list))\n",
        "  return True if y else False\n",
        "\n",
        "print(is_num_fib(num = 4181, limit = 10000))"
      ],
      "execution_count": 7,
      "outputs": [
        {
          "output_type": "stream",
          "text": [
            "False\n"
          ],
          "name": "stdout"
        }
      ]
    },
    {
      "cell_type": "markdown",
      "metadata": {
        "id": "DjEjD-8UXMYO"
      },
      "source": [
        "2.1. Add 2 iterables a and b such that a is even and b is odd"
      ]
    },
    {
      "cell_type": "code",
      "metadata": {
        "id": "zJtrzmi2aoj3",
        "outputId": "bc388a75-5963-4909-c0ef-bfaeaccd5097",
        "colab": {
          "base_uri": "https://localhost:8080/"
        }
      },
      "source": [
        "list1 = [item for item in range(10, 20)] \n",
        "list2 = [item for item in range(20, 30)]\n",
        "\n",
        "print(\"list1:{}\".format(list1))\n",
        "print(\"list2:{}\\n\".format(list2))\n",
        "\n",
        "def get_odd_only_even_only_list(list1, list2):\n",
        "  odd_list1 = [x for x in list1 if x %2 == 1]\n",
        "  even_list2 = [x for x in list2 if x %2 == 0]\n",
        "  return (odd_list1, even_list2)\n",
        "\n",
        "def add_odd_even_list(l1, l2):\n",
        "  return [(a+b) for (a,b) in zip(l1, l2)]\n",
        "\n",
        "odd, even = get_odd_only_even_only_list(list1, list2)\n",
        "\n",
        "print(\"odd from list1:{}\".format(odd))\n",
        "print(\"even from list2:{}\\n\".format(even))\n",
        "\n",
        "print(\"sum:{}\".format(add_odd_even_list(odd, even)))\n"
      ],
      "execution_count": 15,
      "outputs": [
        {
          "output_type": "stream",
          "text": [
            "list1:[10, 11, 12, 13, 14, 15, 16, 17, 18, 19]\n",
            "list2:[20, 21, 22, 23, 24, 25, 26, 27, 28, 29]\n",
            "\n",
            "odd from list1:[11, 13, 15, 17, 19]\n",
            "even from list2:[20, 22, 24, 26, 28]\n",
            "\n",
            "sum:[31, 35, 39, 43, 47]\n"
          ],
          "name": "stdout"
        }
      ]
    },
    {
      "cell_type": "markdown",
      "metadata": {
        "id": "7Rs_zA5UcTli"
      },
      "source": [
        "2.2. Strip every vowel from a string provided "
      ]
    },
    {
      "cell_type": "code",
      "metadata": {
        "id": "cT2vKkn6de56",
        "outputId": "6525b682-05b7-45c3-d0fa-4a425afccfa1",
        "colab": {
          "base_uri": "https://localhost:8080/"
        }
      },
      "source": [
        "def strip_vowels(word):\n",
        "  vowels = \"AaEeIiOoUu\"\n",
        "  return(list (x for x in word if x not in vowels))\n",
        "\n",
        "print(strip_vowels(\"Robot\"))"
      ],
      "execution_count": 24,
      "outputs": [
        {
          "output_type": "stream",
          "text": [
            "['R', 'b', 't']\n"
          ],
          "name": "stdout"
        }
      ]
    },
    {
      "cell_type": "markdown",
      "metadata": {
        "id": "S25iXHYVewyD"
      },
      "source": [
        "2.3. ReLU function for a 1D array"
      ]
    },
    {
      "cell_type": "code",
      "metadata": {
        "id": "nucTdY11eyOp",
        "outputId": "ac1c20b6-fc25-47c9-9f64-07b0e1862a3c",
        "colab": {
          "base_uri": "https://localhost:8080/"
        }
      },
      "source": [
        "def apply_relu(arr):\n",
        "  return (list (max(x, 0) for x in arr))\n",
        "\n",
        "a = np.array([-7, 0, 8, -207, 820])\n",
        "\n",
        "print(apply_relu(a))"
      ],
      "execution_count": 30,
      "outputs": [
        {
          "output_type": "stream",
          "text": [
            "[0, 0, 8, 0, 820]\n"
          ],
          "name": "stdout"
        }
      ]
    },
    {
      "cell_type": "markdown",
      "metadata": {
        "id": "qc3dGftrgEh6"
      },
      "source": [
        "2.4. Sigmoid function for a 1D array"
      ]
    },
    {
      "cell_type": "code",
      "metadata": {
        "id": "26DvzWtrgIAB",
        "outputId": "fa5199d8-4ada-4614-94f0-74dee75da8ed",
        "colab": {
          "base_uri": "https://localhost:8080/"
        }
      },
      "source": [
        "def apply_sigmoid(arr):\n",
        "  return (list (1/(1 + np.exp(-x)) for x in arr))\n",
        "\n",
        "a = np.array([-7, 0, 8, -207, 820])\n",
        "\n",
        "print(apply_sigmoid(a))"
      ],
      "execution_count": 31,
      "outputs": [
        {
          "output_type": "stream",
          "text": [
            "[0.0009110511944006454, 0.5, 0.9996646498695336, 1.2619502849247642e-90, 1.0]\n"
          ],
          "name": "stdout"
        }
      ]
    },
    {
      "cell_type": "markdown",
      "metadata": {
        "id": "otrWg1BHg5xK"
      },
      "source": [
        "2.5. Shifts all characters in the given string by 5"
      ]
    },
    {
      "cell_type": "code",
      "metadata": {
        "id": "4WUiYEnahER9",
        "outputId": "6515b824-3888-44b9-b0ae-33866dd5fbbc",
        "colab": {
          "base_uri": "https://localhost:8080/"
        }
      },
      "source": [
        "def shift_chars(x , y):\n",
        "  if x.isalpha() and x.islower() :\n",
        "    return chr(((ord(x) - 97 + y) % 26) + 97)\n",
        "  elif x.isalpha() and x.isupper() :\n",
        "    return chr(((ord(x) - 65 + y) % 90) + 65)\n",
        "  else:\n",
        "    return x\n",
        "\n",
        "str = \"India vs Austrailia  \"\n",
        "\n",
        "print(list (shift_chars(x, 5) for x in str))"
      ],
      "execution_count": 34,
      "outputs": [
        {
          "output_type": "stream",
          "text": [
            "['N', 's', 'i', 'n', 'f', ' ', 'a', 'x', ' ', 'F', 'z', 'x', 'y', 'w', 'f', 'n', 'q', 'n', 'f', ' ', ' ']\n"
          ],
          "name": "stdout"
        }
      ]
    },
    {
      "cell_type": "markdown",
      "metadata": {
        "id": "B2zw_n6Qhz3j"
      },
      "source": [
        "3. A list comprehension expression that takes a ~200 word paragraph (write your own paragraph to check), and checks whether it has any of the swear words mentioned in https://github.com/RobertJGabriel/Google-profanity-words/blob/master/list.txt"
      ]
    },
    {
      "cell_type": "code",
      "metadata": {
        "id": "bdfiaMffh39S",
        "outputId": "266cd880-5e3c-4a2e-d4a5-845eb8c7be6c",
        "colab": {
          "base_uri": "https://localhost:8080/"
        }
      },
      "source": [
        "url = 'https://raw.githubusercontent.com/RobertJGabriel/Google-profanity-words/master/list.txt'\n",
        "urllib.request.urlretrieve(url, 'list.txt')"
      ],
      "execution_count": 35,
      "outputs": [
        {
          "output_type": "execute_result",
          "data": {
            "text/plain": [
              "('list.txt', <http.client.HTTPMessage at 0x7f314bbf6d68>)"
            ]
          },
          "metadata": {
            "tags": []
          },
          "execution_count": 35
        }
      ]
    },
    {
      "cell_type": "code",
      "metadata": {
        "id": "fwN0ruyYh-yg"
      },
      "source": [
        "word_list = []\n",
        "with open(\"list.txt\") as file:\n",
        "  for line in file:\n",
        "    stripped_line = line.strip()\n",
        "    word_list.append(stripped_line)\n",
        "\n",
        "#word_list"
      ],
      "execution_count": null,
      "outputs": []
    },
    {
      "cell_type": "code",
      "metadata": {
        "id": "JaNgAm6qiZWn"
      },
      "source": [
        "text = \"\"\" So the boy ... the boy must die?” asked Snape quite calmly.\n",
        "“And Voldemort himself must do it, Severus. That is essential.”\n",
        "Another long silence. Then Snape said, “I thought ... all these years ... that we were protecting him for her. For Lily.”\n",
        "“We have protected him because it has been essential to teach him, to raise him, to let him try his strength,” said Dumbledore, his eyes still tight shut. “Meanwhile, the connection between them grows ever stronger, a parasitic growth: Sometimes I have thought he suspects it himself. If I know him, he will have arranged matters so that when he does set out to meet his death, it will truly mean the end of Voldemort.”\n",
        "Dumbledore opened his eyes. Snape looked horrified. “You have kept him alive so that he can die at the right moment?”\n",
        "“Don’t be shocked, Severus. How many men and women have you watched die?”\n",
        "“Lately, only those whom I could not save,” said Snape. He stood up. “You have used me.”\n",
        "“Meaning?”\n",
        "“I have spied for you and lied for you, put myself in mortal danger for you. Everything was supposed to be to keep Lily Potter’s son safe. Now you tell me you have been raising him like a pig for slaughter —”\n",
        "“But this is touching, Severus,” said Dumbledore seriously. “Have you grown to care for the boy, after all?”\n",
        "“For HIM?” shouted Snape. “Expecto Patronum!\" From the tip of his wand burst the silver doe: She landed on the office floor, bounded once across the office, and soared out of the window. Dumbledore watched her fly away, and as her silvery glow faded he turned back to Snape, and his eyes were full of tears.\n",
        "“After all this time?”\n",
        "“Always,” said Snape. \"\"\""
      ],
      "execution_count": 38,
      "outputs": []
    },
    {
      "cell_type": "code",
      "metadata": {
        "id": "ti7EVmOPiPSq",
        "outputId": "e1853f04-77f6-4a4b-a899-aaaa422f2c61",
        "colab": {
          "base_uri": "https://localhost:8080/"
        }
      },
      "source": [
        "nltk.download('punkt')\n",
        "words = word_tokenize(text)\n",
        "cleaned_words = []\n",
        "\n",
        "for w in words:\n",
        "    if w.isalpha():\n",
        "        cleaned_words.append(w.lower())"
      ],
      "execution_count": 39,
      "outputs": [
        {
          "output_type": "stream",
          "text": [
            "[nltk_data] Downloading package punkt to /root/nltk_data...\n",
            "[nltk_data]   Unzipping tokenizers/punkt.zip.\n"
          ],
          "name": "stdout"
        }
      ]
    },
    {
      "cell_type": "code",
      "metadata": {
        "id": "7HYivAW-ijXF",
        "outputId": "be3198c8-a2ff-44ed-ab86-a17d4f54850c",
        "colab": {
          "base_uri": "https://localhost:8080/"
        }
      },
      "source": [
        "#print(cleaned_words)\n",
        "\n",
        "for w in cleaned_words:\n",
        "  if w in word_list:\n",
        "    print(\"Contains swear words\")\n",
        "    break\n",
        "else:\n",
        "  print(\"Given paragraph is clean\")\n"
      ],
      "execution_count": 48,
      "outputs": [
        {
          "output_type": "stream",
          "text": [
            "Given paragraph is clean\n"
          ],
          "name": "stdout"
        }
      ]
    },
    {
      "cell_type": "markdown",
      "metadata": {
        "id": "8H0L9MfajqV3"
      },
      "source": [
        "4.1. Add only even numbers in a list using reduce"
      ]
    },
    {
      "cell_type": "code",
      "metadata": {
        "id": "oFA3TOlyjyUM",
        "outputId": "59bf35f2-6a97-40c8-ced7-828b65d914d7",
        "colab": {
          "base_uri": "https://localhost:8080/"
        }
      },
      "source": [
        "randomlist = random.sample(range(10, 200), 10)\n",
        "print(\"\\n{}\".format(randomlist))\n",
        "\n",
        "print (reduce(lambda x,y:((0,x)[x%2 == 0] + (0,y)[y%2 == 0]),randomlist))"
      ],
      "execution_count": 59,
      "outputs": [
        {
          "output_type": "stream",
          "text": [
            "\n",
            "[89, 99, 31, 75, 102, 26, 91, 49, 120, 165]\n",
            "248\n"
          ],
          "name": "stdout"
        }
      ]
    },
    {
      "cell_type": "markdown",
      "metadata": {
        "id": "6hv-RUoTlOGR"
      },
      "source": [
        "4.2. Biggest character in a string (printable ascii characters) using reduce"
      ]
    },
    {
      "cell_type": "code",
      "metadata": {
        "id": "-OTBPGLslRw-",
        "outputId": "e38fdaef-865b-48e9-f046-d39c5c73fcb1",
        "colab": {
          "base_uri": "https://localhost:8080/"
        }
      },
      "source": [
        "r_str = \"asxdOP ast23GBC4ascxazASSD\"\n",
        "\n",
        "print (reduce(lambda x,y:((y,x)[x>y]),r_str))"
      ],
      "execution_count": 60,
      "outputs": [
        {
          "output_type": "stream",
          "text": [
            "z\n"
          ],
          "name": "stdout"
        }
      ]
    },
    {
      "cell_type": "markdown",
      "metadata": {
        "id": "bh1Qg169lmLw"
      },
      "source": [
        "4.3. Adds every 3rd number in a list using reduce"
      ]
    },
    {
      "cell_type": "code",
      "metadata": {
        "id": "G1_j_jYZlpE_",
        "outputId": "14630779-c0af-4165-9962-7552d995ec2a",
        "colab": {
          "base_uri": "https://localhost:8080/"
        }
      },
      "source": [
        "def add_at_position(nlist, pos):\n",
        "  if pos > 0 :\n",
        "    print (reduce(lambda x,y:(x+y), (ele  for id,ele in enumerate(nlist) if id%pos == pos-1)))\n",
        "  elif pos == 0:\n",
        "    print (reduce(lambda x,y:(x+y), nlist))\n",
        "  else:\n",
        "    pass\n",
        "\n",
        "randomlist = random.sample(range(10, 200), 10)\n",
        "print(\"\\n{}\".format(randomlist))\n",
        "\n",
        "add_at_position(randomlist, 3)"
      ],
      "execution_count": 64,
      "outputs": [
        {
          "output_type": "stream",
          "text": [
            "\n",
            "[174, 130, 115, 136, 128, 58, 170, 118, 96, 43]\n",
            "269\n"
          ],
          "name": "stdout"
        }
      ]
    },
    {
      "cell_type": "markdown",
      "metadata": {
        "id": "i-K4xv4emP-v"
      },
      "source": [
        "5. Expression that generates 15 random KADDAADDDD number plates, where KA is fixed, D stands for a digit, and A stands for Capital alphabets using randint, random.choice and list comprehensions.  \n",
        "[10<<DD<<99 & 1000<<DDDD<<9999]"
      ]
    },
    {
      "cell_type": "code",
      "metadata": {
        "id": "kyzGsXXQme6w",
        "outputId": "ec38fef8-628d-4ca3-c380-82326da7c357",
        "colab": {
          "base_uri": "https://localhost:8080/"
        }
      },
      "source": [
        "def random_plates():  \n",
        "    generate_pass = \"KA{}{}{}\".format(random.randint(10, 99), ''.join([random.choice(string.ascii_uppercase) for n in range(2)]), random.randint(1000, 9999))\n",
        "    return generate_pass\n",
        "\n",
        "for x in range(15):\n",
        "  print(random_plates())"
      ],
      "execution_count": 70,
      "outputs": [
        {
          "output_type": "stream",
          "text": [
            "KA60QU4737\n",
            "KA67QU5461\n",
            "KA14BI8706\n",
            "KA92FL1274\n",
            "KA27ES4414\n",
            "KA72XQ6973\n",
            "KA49KM5789\n",
            "KA25KR1597\n",
            "KA53EU8355\n",
            "KA37XY6235\n",
            "KA76GI5841\n",
            "KA95TV9304\n",
            "KA85QV2746\n",
            "KA90JU3182\n",
            "KA83EX4781\n"
          ],
          "name": "stdout"
        }
      ]
    },
    {
      "cell_type": "markdown",
      "metadata": {
        "id": "PybfO6kBm4n0"
      },
      "source": [
        "6. Same as previous but KA can be changed to DL, and 1000/9999 ranges can be provided"
      ]
    },
    {
      "cell_type": "code",
      "metadata": {
        "id": "7-OWz7Pumm6p",
        "outputId": "476c8a71-102f-4c9a-f970-dee870aedff9",
        "colab": {
          "base_uri": "https://localhost:8080/"
        }
      },
      "source": [
        "def city_plate(city, number):  \n",
        "    #generate_pass = 'KA'#.join(str(random.randint(10, 99)))#.join([random.choice(string.ascii_uppercase) for n in range(2)]).join(str(random.randint(1000, 9999)))\n",
        "    generate_pass = \"{}{}{}{}\".format(city,random.randint(10, 99), ''.join([random.choice(string.ascii_uppercase) for n in range(2)]), number)\n",
        "    return generate_pass\n",
        "\n",
        "\n",
        "for x in range(15):\n",
        "  print(city_plate('DL',1234))"
      ],
      "execution_count": 71,
      "outputs": [
        {
          "output_type": "stream",
          "text": [
            "DL23IP1234\n",
            "DL49OH1234\n",
            "DL81XY1234\n",
            "DL29UO1234\n",
            "DL92BI1234\n",
            "DL42CG1234\n",
            "DL10VU1234\n",
            "DL60MJ1234\n",
            "DL28YG1234\n",
            "DL37CW1234\n",
            "DL81BF1234\n",
            "DL75GU1234\n",
            "DL27LR1234\n",
            "DL80JW1234\n",
            "DL32FR1234\n"
          ],
          "name": "stdout"
        }
      ]
    }
  ]
}